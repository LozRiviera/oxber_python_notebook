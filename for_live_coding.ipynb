{
 "cells": [
  {
   "cell_type": "markdown",
   "id": "b4b80b15",
   "metadata": {},
   "source": [
    "## A coding space for your introduction to Python - Oxford Berlin Summer School 2021\n",
    "\n",
    "---\n",
    "\n",
    "**ABSTRACT:** Computer code is often generated during the research process, from explaining concepts, to running machinery and generating data, to analysis. Open scholarship involves valuing and sharing these research outputs in the same fashion as data or hypotheses, to obtain their full value. Python is a popular open-source language, with a wide range of uses. It benefits from being easily readable by humans and freely available across many devices. For these reasons it is a good tool for research and learning.\n",
    "\n",
    "All content is here: https://tlestang.github.io/oxber2021_python/\n",
    "\n",
    "In the workshop we will cover ..."
   ]
  },
  {
   "cell_type": "markdown",
   "id": "f0cd5cc7",
   "metadata": {},
   "source": [
    "### Episode 1 - Running Python"
   ]
  },
  {
   "cell_type": "code",
   "execution_count": null,
   "id": "51384348",
   "metadata": {},
   "outputs": [],
   "source": []
  },
  {
   "cell_type": "code",
   "execution_count": null,
   "id": "81594b87",
   "metadata": {},
   "outputs": [],
   "source": []
  },
  {
   "cell_type": "markdown",
   "id": "7fb1daa2",
   "metadata": {},
   "source": [
    "### Episode 2 - Variables and Types"
   ]
  },
  {
   "cell_type": "code",
   "execution_count": null,
   "id": "b6dfc898",
   "metadata": {},
   "outputs": [],
   "source": []
  },
  {
   "cell_type": "code",
   "execution_count": null,
   "id": "49324df9",
   "metadata": {},
   "outputs": [],
   "source": []
  },
  {
   "cell_type": "code",
   "execution_count": null,
   "id": "d47061e2",
   "metadata": {},
   "outputs": [],
   "source": []
  },
  {
   "cell_type": "markdown",
   "id": "4a1e5ad7",
   "metadata": {},
   "source": [
    "### Episode 3 - Built-in Functions and Help"
   ]
  },
  {
   "cell_type": "code",
   "execution_count": null,
   "id": "6090d3cb",
   "metadata": {},
   "outputs": [],
   "source": []
  },
  {
   "cell_type": "code",
   "execution_count": null,
   "id": "1b7e268b",
   "metadata": {},
   "outputs": [],
   "source": []
  },
  {
   "cell_type": "code",
   "execution_count": null,
   "id": "05854bb8",
   "metadata": {},
   "outputs": [],
   "source": []
  },
  {
   "cell_type": "markdown",
   "id": "c64e7051",
   "metadata": {},
   "source": [
    "### Episode 4 - Libraries"
   ]
  },
  {
   "cell_type": "code",
   "execution_count": null,
   "id": "6cb46f2b",
   "metadata": {},
   "outputs": [],
   "source": []
  },
  {
   "cell_type": "code",
   "execution_count": null,
   "id": "d8a7b0d2",
   "metadata": {},
   "outputs": [],
   "source": []
  },
  {
   "cell_type": "markdown",
   "id": "c68683ef",
   "metadata": {},
   "source": [
    "### Episode 5 - Numpy "
   ]
  },
  {
   "cell_type": "code",
   "execution_count": null,
   "id": "02d0ca66",
   "metadata": {},
   "outputs": [],
   "source": []
  },
  {
   "cell_type": "code",
   "execution_count": null,
   "id": "68755fba",
   "metadata": {},
   "outputs": [],
   "source": []
  },
  {
   "cell_type": "markdown",
   "id": "9f5e4a5f",
   "metadata": {},
   "source": [
    "### Episode 6- Plotting with Matplotlib "
   ]
  },
  {
   "cell_type": "code",
   "execution_count": null,
   "id": "6efe9971",
   "metadata": {},
   "outputs": [],
   "source": []
  },
  {
   "cell_type": "code",
   "execution_count": null,
   "id": "0c2e80b0",
   "metadata": {},
   "outputs": [],
   "source": []
  },
  {
   "cell_type": "markdown",
   "id": "a4224388",
   "metadata": {},
   "source": [
    "### Episode 7 - Loops and Conditionals"
   ]
  },
  {
   "cell_type": "code",
   "execution_count": null,
   "id": "fdd40419",
   "metadata": {},
   "outputs": [],
   "source": []
  },
  {
   "cell_type": "code",
   "execution_count": null,
   "id": "5dbbbbeb",
   "metadata": {},
   "outputs": [],
   "source": []
  },
  {
   "cell_type": "markdown",
   "id": "d1c56c44",
   "metadata": {},
   "source": [
    "### Episode 8 - Writing Functions"
   ]
  },
  {
   "cell_type": "code",
   "execution_count": null,
   "id": "dd53c0c6",
   "metadata": {},
   "outputs": [],
   "source": []
  },
  {
   "cell_type": "code",
   "execution_count": null,
   "id": "12749e66",
   "metadata": {},
   "outputs": [],
   "source": []
  },
  {
   "cell_type": "code",
   "execution_count": null,
   "id": "45a546bc",
   "metadata": {},
   "outputs": [],
   "source": []
  }
 ],
 "metadata": {
  "kernelspec": {
   "display_name": "Python 3 (ipykernel)",
   "language": "python",
   "name": "python3"
  },
  "language_info": {
   "codemirror_mode": {
    "name": "ipython",
    "version": 3
   },
   "file_extension": ".py",
   "mimetype": "text/x-python",
   "name": "python",
   "nbconvert_exporter": "python",
   "pygments_lexer": "ipython3",
   "version": "3.9.6"
  }
 },
 "nbformat": 4,
 "nbformat_minor": 5
}
